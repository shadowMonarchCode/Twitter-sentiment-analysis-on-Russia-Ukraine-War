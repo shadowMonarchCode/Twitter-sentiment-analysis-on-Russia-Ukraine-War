{
 "cells": [
  {
   "cell_type": "code",
   "execution_count": 1,
   "metadata": {},
   "outputs": [],
   "source": [
    "import pandas as pd\n",
    "import numpy as np\n",
    "from sklearn.feature_extraction.text import TfidfVectorizer, CountVectorizer\n",
    "from sklearn.model_selection import train_test_split\n",
    "from sklearn.metrics import precision_recall_fscore_support\n",
    "import joblib"
   ]
  },
  {
   "cell_type": "code",
   "execution_count": 2,
   "metadata": {},
   "outputs": [
    {
     "data": {
      "text/html": [
       "<div>\n",
       "<style scoped>\n",
       "    .dataframe tbody tr th:only-of-type {\n",
       "        vertical-align: middle;\n",
       "    }\n",
       "\n",
       "    .dataframe tbody tr th {\n",
       "        vertical-align: top;\n",
       "    }\n",
       "\n",
       "    .dataframe thead th {\n",
       "        text-align: right;\n",
       "    }\n",
       "</style>\n",
       "<table border=\"1\" class=\"dataframe\">\n",
       "  <thead>\n",
       "    <tr style=\"text-align: right;\">\n",
       "      <th></th>\n",
       "      <th>text</th>\n",
       "      <th>Sentiment</th>\n",
       "    </tr>\n",
       "  </thead>\n",
       "  <tbody>\n",
       "    <tr>\n",
       "      <th>0</th>\n",
       "      <td>Footage airport bomb Ivano-Frankivsk . # Ukrai...</td>\n",
       "      <td>-1.0</td>\n",
       "    </tr>\n",
       "    <tr>\n",
       "      <th>1</th>\n",
       "      <td>Ukraine MP Sophia Fedyna tell ground situation...</td>\n",
       "      <td>1.0</td>\n",
       "    </tr>\n",
       "    <tr>\n",
       "      <th>2</th>\n",
       "      <td>A cruise missile fire Russian army fell Kiev #...</td>\n",
       "      <td>-1.0</td>\n",
       "    </tr>\n",
       "    <tr>\n",
       "      <th>3</th>\n",
       "      <td>🇺🇦 53rd Mechanized Brigade continue suffer los...</td>\n",
       "      <td>-1.0</td>\n",
       "    </tr>\n",
       "    <tr>\n",
       "      <th>4</th>\n",
       "      <td>Now wrong , absolutely wrong , @ JoeBiden , @ ...</td>\n",
       "      <td>-1.0</td>\n",
       "    </tr>\n",
       "  </tbody>\n",
       "</table>\n",
       "</div>"
      ],
      "text/plain": [
       "                                                text  Sentiment\n",
       "0  Footage airport bomb Ivano-Frankivsk . # Ukrai...       -1.0\n",
       "1  Ukraine MP Sophia Fedyna tell ground situation...        1.0\n",
       "2  A cruise missile fire Russian army fell Kiev #...       -1.0\n",
       "3  🇺🇦 53rd Mechanized Brigade continue suffer los...       -1.0\n",
       "4  Now wrong , absolutely wrong , @ JoeBiden , @ ...       -1.0"
      ]
     },
     "execution_count": 2,
     "metadata": {},
     "output_type": "execute_result"
    }
   ],
   "source": [
    "data = pd.read_csv('Data/Preprocessed/labelled_data.csv', usecols=['text', 'Sentiment'])\n",
    "data.dropna(inplace=True)\n",
    "data.head()"
   ]
  },
  {
   "cell_type": "code",
   "execution_count": 3,
   "metadata": {},
   "outputs": [],
   "source": [
    "X_train, X_test, y_train, y_test = train_test_split(data.text, data.Sentiment, test_size=0.07, shuffle=True, random_state=42)"
   ]
  },
  {
   "cell_type": "code",
   "execution_count": 4,
   "metadata": {},
   "outputs": [],
   "source": [
    "vectorizer = TfidfVectorizer(sublinear_tf=True)\n",
    "vectorizer.fit(X_train)\n",
    "X_train_tfidf = vectorizer.transform(X_train)\n",
    "X_test_tfidf = vectorizer.transform(X_test)"
   ]
  },
  {
   "attachments": {},
   "cell_type": "markdown",
   "metadata": {},
   "source": [
    "## Logistic Regression Classifier"
   ]
  },
  {
   "cell_type": "code",
   "execution_count": 24,
   "metadata": {},
   "outputs": [
    {
     "name": "stdout",
     "output_type": "stream",
     "text": [
      "Accuracy: 0.8656775731885018\n",
      "Error: 0.1343224268114982\n",
      "Precision: 0.8652518586490779\n",
      "Recall: 0.8656775731885018\n",
      "F1-score: 0.865185875877088\n"
     ]
    }
   ],
   "source": [
    "from sklearn.linear_model import LogisticRegression\n",
    "\n",
    "lreg = LogisticRegression(multi_class='ovr', solver='saga')\n",
    "\n",
    "lreg.fit(X_train_tfidf, y_train)\n",
    "\n",
    "lreg_accuracy = lreg.score(X_test_tfidf, y_test)\n",
    "lreg_error = 1-lreg_accuracy\n",
    "y_pred_lreg = lreg.predict(X_test_tfidf)\n",
    "\n",
    "lreg_precision, lreg_recall, lreg_f1, lreg_support = precision_recall_fscore_support(y_test, y_pred_lreg, average='weighted')\n",
    "\n",
    "# Print the results\n",
    "print(\"Accuracy:\", lreg_accuracy)\n",
    "print(\"Error:\", lreg_error)\n",
    "print(\"Precision:\", lreg_precision)\n",
    "print(\"Recall:\", lreg_recall)\n",
    "print(\"F1-score:\", lreg_f1)"
   ]
  },
  {
   "cell_type": "code",
   "execution_count": 34,
   "metadata": {},
   "outputs": [
    {
     "data": {
      "text/plain": [
       "['Models/logisticRegression.pk1']"
      ]
     },
     "execution_count": 34,
     "metadata": {},
     "output_type": "execute_result"
    }
   ],
   "source": [
    "joblib.dump(lreg, 'Models/logisticRegression.pk1')"
   ]
  },
  {
   "attachments": {},
   "cell_type": "markdown",
   "metadata": {},
   "source": [
    "## Decision Tree Classifier"
   ]
  },
  {
   "cell_type": "code",
   "execution_count": 25,
   "metadata": {},
   "outputs": [
    {
     "name": "stdout",
     "output_type": "stream",
     "text": [
      "Accuracy: 0.756524042919592\n",
      "Error: 0.24347595708040803\n",
      "Precision: 0.7593589121739158\n",
      "Recall: 0.756524042919592\n",
      "F1-score: 0.7572177780630233\n"
     ]
    }
   ],
   "source": [
    "from sklearn.tree import DecisionTreeClassifier\n",
    "\n",
    "tree = DecisionTreeClassifier()\n",
    "\n",
    "tree.fit(X_train_tfidf, y_train)\n",
    "\n",
    "tree_accuracy = tree.score(X_test_tfidf, y_test)\n",
    "tree_error = 1-tree_accuracy\n",
    "y_pred_tree = tree.predict(X_test_tfidf)\n",
    "\n",
    "tree_precision, tree_recall, tree_f1, tree_support = precision_recall_fscore_support(y_test, y_pred_tree, average='weighted')\n",
    "\n",
    "# Print the results\n",
    "print(\"Accuracy:\", tree_accuracy)\n",
    "print(\"Error:\", tree_error)\n",
    "print(\"Precision:\", tree_precision)\n",
    "print(\"Recall:\", tree_recall)\n",
    "print(\"F1-score:\", tree_f1)"
   ]
  },
  {
   "cell_type": "code",
   "execution_count": 35,
   "metadata": {},
   "outputs": [
    {
     "data": {
      "text/plain": [
       "['Models/decisionTree.pk1']"
      ]
     },
     "execution_count": 35,
     "metadata": {},
     "output_type": "execute_result"
    }
   ],
   "source": [
    "joblib.dump(tree, 'Models/decisionTree.pk1')"
   ]
  },
  {
   "cell_type": "markdown",
   "metadata": {},
   "source": [
    "## KNN Classifier"
   ]
  },
  {
   "cell_type": "code",
   "execution_count": 26,
   "metadata": {},
   "outputs": [
    {
     "name": "stdout",
     "output_type": "stream",
     "text": [
      "Accuracy: 0.6690952444032322\n",
      "Error: 0.3309047555967678\n",
      "Precision: 0.6720339375482393\n",
      "Recall: 0.6690952444032322\n",
      "F1-score: 0.6586883025222584\n"
     ]
    }
   ],
   "source": [
    "from sklearn.neighbors import KNeighborsClassifier\n",
    "knn = KNeighborsClassifier(n_neighbors=50)\n",
    "\n",
    "knn.fit(X_train_tfidf, y_train)\n",
    "\n",
    "knn_accuracy = knn.score(X_test_tfidf, y_test)\n",
    "y_pred_knn = knn.predict(X_test_tfidf)\n",
    "knn_error = 1-knn_accuracy\n",
    "\n",
    "knn_precision, knn_recall, knn_f1, knn_support = precision_recall_fscore_support(y_test, y_pred_knn, average='weighted')\n",
    "\n",
    "# Print the results\n",
    "print(\"Accuracy:\", knn_accuracy)\n",
    "print(\"Error:\", knn_error)\n",
    "print(\"Precision:\", knn_precision)\n",
    "print(\"Recall:\", knn_recall)\n",
    "print(\"F1-score:\", knn_f1)"
   ]
  },
  {
   "cell_type": "code",
   "execution_count": 36,
   "metadata": {},
   "outputs": [
    {
     "data": {
      "text/plain": [
       "['Models/kNearestNeighbours.pk1']"
      ]
     },
     "execution_count": 36,
     "metadata": {},
     "output_type": "execute_result"
    }
   ],
   "source": [
    "joblib.dump(knn, 'Models/kNearestNeighbours.pk1')"
   ]
  },
  {
   "attachments": {},
   "cell_type": "markdown",
   "metadata": {},
   "source": [
    "## Random Forest Classifier"
   ]
  },
  {
   "cell_type": "code",
   "execution_count": 22,
   "metadata": {},
   "outputs": [
    {
     "name": "stdout",
     "output_type": "stream",
     "text": [
      "Accuracy: 0.7948072592396344\n",
      "Error: 0.20519274076036564\n",
      "Precision: 0.7980302027817792\n",
      "Recall: 0.7948072592396344\n",
      "F1-score: 0.7945693111200129\n"
     ]
    }
   ],
   "source": [
    "from sklearn.ensemble import RandomForestClassifier\n",
    "\n",
    "forest = RandomForestClassifier(n_estimators=50)\n",
    "\n",
    "forest.fit(X_train_tfidf, y_train)\n",
    "\n",
    "forest_accuracy = forest.score(X_test_tfidf, y_test)\n",
    "forest_error = 1-forest_accuracy\n",
    "y_pred_forest = forest.predict(X_test_tfidf)\n",
    "\n",
    "forest_precision, forest_recall, forest_f1, forest_support = precision_recall_fscore_support(y_test, y_pred_forest, average='weighted')\n",
    "\n",
    "# Print the results\n",
    "print(\"Accuracy:\", forest_accuracy)\n",
    "print(\"Error:\", forest_error)\n",
    "print(\"Precision:\", forest_precision)\n",
    "print(\"Recall:\", forest_recall)\n",
    "print(\"F1-score:\", forest_f1)"
   ]
  },
  {
   "cell_type": "code",
   "execution_count": 37,
   "metadata": {},
   "outputs": [
    {
     "data": {
      "text/plain": [
       "['Models/randomForest.pk1']"
      ]
     },
     "execution_count": 37,
     "metadata": {},
     "output_type": "execute_result"
    }
   ],
   "source": [
    "joblib.dump(forest, 'Models/randomForest.pk1')"
   ]
  },
  {
   "attachments": {},
   "cell_type": "markdown",
   "metadata": {},
   "source": [
    "## Naive Bayes Classifier"
   ]
  },
  {
   "cell_type": "code",
   "execution_count": 23,
   "metadata": {},
   "outputs": [
    {
     "name": "stdout",
     "output_type": "stream",
     "text": [
      "Accuracy: 0.6426016690952444\n",
      "Error: 0.3573983309047556\n",
      "Precision: 0.7271863583753823\n",
      "Recall: 0.6426016690952444\n",
      "F1-score: 0.5877612647472671\n"
     ]
    }
   ],
   "source": [
    "from sklearn.naive_bayes import MultinomialNB\n",
    "from sklearn.multiclass import OneVsRestClassifier\n",
    "\n",
    "nb = OneVsRestClassifier(MultinomialNB())\n",
    "nb.fit(X_train_tfidf, y_train)\n",
    "\n",
    "nb_accuracy = nb.score(X_test_tfidf, y_test)\n",
    "nb_error = 1-nb_accuracy\n",
    "y_pred_nb = nb.predict(X_test_tfidf)\n",
    "\n",
    "nb_precision, nb_recall, nb_f1, nb_support = precision_recall_fscore_support(y_test, y_pred_nb, average='weighted')\n",
    "\n",
    "# Print the results\n",
    "print(\"Accuracy:\", nb_accuracy)\n",
    "print(\"Error:\", nb_error)\n",
    "print(\"Precision:\", nb_precision)\n",
    "print(\"Recall:\", nb_recall)\n",
    "print(\"F1-score:\", nb_f1)"
   ]
  },
  {
   "cell_type": "code",
   "execution_count": 38,
   "metadata": {},
   "outputs": [
    {
     "data": {
      "text/plain": [
       "['Models/naiveBayes.pk1']"
      ]
     },
     "execution_count": 38,
     "metadata": {},
     "output_type": "execute_result"
    }
   ],
   "source": [
    "joblib.dump(nb, 'Models/naiveBayes.pk1')"
   ]
  },
  {
   "attachments": {},
   "cell_type": "markdown",
   "metadata": {},
   "source": [
    "## SVM Classifier"
   ]
  },
  {
   "cell_type": "code",
   "execution_count": 39,
   "metadata": {},
   "outputs": [
    {
     "name": "stdout",
     "output_type": "stream",
     "text": [
      "Accuracy: 0.8768048748178566\n",
      "Error: 0.12319512518214337\n",
      "Precision: 0.8767480422787965\n",
      "Recall: 0.8768048748178566\n",
      "F1-score: 0.8767566916475652\n"
     ]
    }
   ],
   "source": [
    "from sklearn.svm import SVC\n",
    "\n",
    "svc = SVC(decision_function_shape='ovr', kernel='rbf')\n",
    "\n",
    "svc.fit(X_train_tfidf, y_train)\n",
    "\n",
    "svc_accuracy = svc.score(X_test_tfidf, y_test)\n",
    "svc_error = 1-svc_accuracy\n",
    "y_pred_svc = svc.predict(X_test_tfidf)\n",
    "\n",
    "svc_precision, svc_recall, svc_f1, svc_support = precision_recall_fscore_support(y_test, y_pred_svc, average='weighted')\n",
    "\n",
    "# Print the results\n",
    "print(\"Accuracy:\", svc_accuracy)\n",
    "print(\"Error:\", svc_error)\n",
    "print(\"Precision:\", svc_precision)\n",
    "print(\"Recall:\", svc_recall)\n",
    "print(\"F1-score:\", svc_f1)"
   ]
  },
  {
   "cell_type": "code",
   "execution_count": 40,
   "metadata": {},
   "outputs": [
    {
     "data": {
      "text/plain": [
       "['Models/svm.pk1']"
      ]
     },
     "execution_count": 40,
     "metadata": {},
     "output_type": "execute_result"
    }
   ],
   "source": [
    "joblib.dump(svc, 'Models/svm.pk1')"
   ]
  },
  {
   "attachments": {},
   "cell_type": "markdown",
   "metadata": {},
   "source": [
    "## XGBoost Classifier"
   ]
  },
  {
   "cell_type": "code",
   "execution_count": 6,
   "metadata": {},
   "outputs": [],
   "source": [
    "from sklearn.preprocessing import LabelEncoder\n",
    "le = LabelEncoder()\n",
    "y_train = le.fit_transform(y_train)\n",
    "y_test = le.fit_transform(y_test)"
   ]
  },
  {
   "cell_type": "code",
   "execution_count": 7,
   "metadata": {},
   "outputs": [
    {
     "name": "stdout",
     "output_type": "stream",
     "text": [
      "Accuracy: 0.8054046893628295\n",
      "Error: 0.1945953106371705\n",
      "Precision: 0.8170799325019951\n",
      "Recall: 0.8054046893628295\n",
      "F1-score: 0.8074553334103636\n"
     ]
    }
   ],
   "source": [
    "from xgboost import XGBClassifier\n",
    "\n",
    "xgb = XGBClassifier()\n",
    "xgb.fit(X_train_tfidf, y_train)\n",
    "\n",
    "xgb_accuracy = xgb.score(X_test_tfidf, y_test)\n",
    "xgb_error = 1-xgb_accuracy\n",
    "y_pred_xgb = xgb.predict(X_test_tfidf)\n",
    "\n",
    "xgb_precision,xgb_recall, xgb_f1, xgb_support = precision_recall_fscore_support(y_test, y_pred_xgb, average='weighted')\n",
    "\n",
    "# Print the results\n",
    "print(\"Accuracy:\", xgb_accuracy)\n",
    "print(\"Error:\", xgb_error)\n",
    "print(\"Precision:\", xgb_precision)\n",
    "print(\"Recall:\", xgb_recall)\n",
    "print(\"F1-score:\", xgb_f1)"
   ]
  }
 ],
 "metadata": {
  "kernelspec": {
   "display_name": "Python 3",
   "language": "python",
   "name": "python3"
  },
  "language_info": {
   "codemirror_mode": {
    "name": "ipython",
    "version": 3
   },
   "file_extension": ".py",
   "mimetype": "text/x-python",
   "name": "python",
   "nbconvert_exporter": "python",
   "pygments_lexer": "ipython3",
   "version": "3.8.8"
  },
  "orig_nbformat": 4,
  "vscode": {
   "interpreter": {
    "hash": "570feb405e2e27c949193ac68f46852414290d515b0ba6e5d90d076ed2284471"
   }
  }
 },
 "nbformat": 4,
 "nbformat_minor": 2
}
