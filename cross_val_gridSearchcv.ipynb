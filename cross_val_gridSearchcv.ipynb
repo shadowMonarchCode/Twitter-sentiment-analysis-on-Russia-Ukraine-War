{
 "cells": [
  {
   "cell_type": "code",
   "execution_count": 1,
   "metadata": {},
   "outputs": [],
   "source": [
    "import pandas as pd\n",
    "from xgboost import XGBClassifier\n",
    "from sklearn.naive_bayes import MultinomialNB\n",
    "from sklearn.preprocessing import LabelEncoder\n",
    "from sklearn.multiclass import OneVsRestClassifier\n",
    "from sklearn.linear_model import LogisticRegression\n",
    "from sklearn.model_selection import cross_val_score\n",
    "from sklearn.feature_extraction.text import TfidfVectorizer"
   ]
  },
  {
   "cell_type": "code",
   "execution_count": 2,
   "metadata": {},
   "outputs": [
    {
     "data": {
      "text/html": [
       "<div>\n",
       "<style scoped>\n",
       "    .dataframe tbody tr th:only-of-type {\n",
       "        vertical-align: middle;\n",
       "    }\n",
       "\n",
       "    .dataframe tbody tr th {\n",
       "        vertical-align: top;\n",
       "    }\n",
       "\n",
       "    .dataframe thead th {\n",
       "        text-align: right;\n",
       "    }\n",
       "</style>\n",
       "<table border=\"1\" class=\"dataframe\">\n",
       "  <thead>\n",
       "    <tr style=\"text-align: right;\">\n",
       "      <th></th>\n",
       "      <th>text</th>\n",
       "      <th>Sentiment</th>\n",
       "    </tr>\n",
       "  </thead>\n",
       "  <tbody>\n",
       "    <tr>\n",
       "      <th>0</th>\n",
       "      <td>Footage airport bomb Ivano-Frankivsk . # Ukrai...</td>\n",
       "      <td>-1.0</td>\n",
       "    </tr>\n",
       "    <tr>\n",
       "      <th>1</th>\n",
       "      <td>Ukraine MP Sophia Fedyna tell ground situation...</td>\n",
       "      <td>1.0</td>\n",
       "    </tr>\n",
       "    <tr>\n",
       "      <th>2</th>\n",
       "      <td>A cruise missile fire Russian army fell Kiev #...</td>\n",
       "      <td>-1.0</td>\n",
       "    </tr>\n",
       "    <tr>\n",
       "      <th>3</th>\n",
       "      <td>🇺🇦 53rd Mechanized Brigade continue suffer los...</td>\n",
       "      <td>-1.0</td>\n",
       "    </tr>\n",
       "    <tr>\n",
       "      <th>4</th>\n",
       "      <td>Now wrong , absolutely wrong , @ JoeBiden , @ ...</td>\n",
       "      <td>-1.0</td>\n",
       "    </tr>\n",
       "  </tbody>\n",
       "</table>\n",
       "</div>"
      ],
      "text/plain": [
       "                                                text  Sentiment\n",
       "0  Footage airport bomb Ivano-Frankivsk . # Ukrai...       -1.0\n",
       "1  Ukraine MP Sophia Fedyna tell ground situation...        1.0\n",
       "2  A cruise missile fire Russian army fell Kiev #...       -1.0\n",
       "3  🇺🇦 53rd Mechanized Brigade continue suffer los...       -1.0\n",
       "4  Now wrong , absolutely wrong , @ JoeBiden , @ ...       -1.0"
      ]
     },
     "execution_count": 2,
     "metadata": {},
     "output_type": "execute_result"
    }
   ],
   "source": [
    "data = pd.read_csv('Data/Preprocessed/labelled_data.csv', usecols=['text', 'Sentiment'])\n",
    "data.dropna(inplace=True)\n",
    "data.head()"
   ]
  },
  {
   "cell_type": "code",
   "execution_count": 3,
   "metadata": {},
   "outputs": [],
   "source": [
    "vectorizer = TfidfVectorizer(sublinear_tf=True)\n",
    "X = vectorizer.fit_transform(data.text)\n",
    "lab = LabelEncoder()\n",
    "Y = lab.fit_transform(data.Sentiment)"
   ]
  },
  {
   "cell_type": "code",
   "execution_count": 4,
   "metadata": {},
   "outputs": [
    {
     "name": "stdout",
     "output_type": "stream",
     "text": [
      "Accuracies : [0.5365442  0.55238219 0.58587563 0.58795275 0.59574192 0.6520836\n",
      " 0.62988446 0.68475721 0.66865749 0.71838484 0.65684238 0.60997144\n",
      " 0.63334199 0.64359907]\n",
      "Average Accuracy : 0.6254299396747227\n"
     ]
    }
   ],
   "source": [
    "nb = OneVsRestClassifier(MultinomialNB())\n",
    "\n",
    "score_nb = cross_val_score(nb, X, Y, cv=14, scoring='accuracy')\n",
    "print(f\"Accuracies : {score_nb}\\nAverage Accuracy : {score_nb.mean()}\")"
   ]
  },
  {
   "cell_type": "code",
   "execution_count": 5,
   "metadata": {},
   "outputs": [
    {
     "name": "stdout",
     "output_type": "stream",
     "text": [
      "Accuracies : [0.84655329 0.84811113 0.861872   0.84772167 0.84084123 0.86304037\n",
      " 0.83629755 0.86146455 0.84510517 0.87094261 0.85120748 0.87042327\n",
      " 0.84938977 0.83861335]\n",
      "Average Accuracy : 0.8522559591457484\n"
     ]
    }
   ],
   "source": [
    "lreg = LogisticRegression(multi_class='ovr', solver='saga')\n",
    "\n",
    "score_lreg = cross_val_score(lreg, X, Y, cv=14, scoring = 'accuracy')\n",
    "print(f\"Accuracies : {score_lreg}\\nAverage Accuracy : {score_lreg.mean()}\") "
   ]
  },
  {
   "cell_type": "code",
   "execution_count": 6,
   "metadata": {},
   "outputs": [
    {
     "name": "stdout",
     "output_type": "stream",
     "text": [
      "Accuracies : [0.79579385 0.792808   0.81331949 0.79955861 0.8047514  0.82824873\n",
      " 0.78787485 0.8170605  0.80498572 0.8209556  0.80511555 0.81783952\n",
      " 0.79537782 0.78343287]\n",
      "Average Accuracy : 0.8047944656774989\n"
     ]
    }
   ],
   "source": [
    "xgb = XGBClassifier()\n",
    "score_xgb = cross_val_score(xgb, X, Y, cv=14, scoring='accuracy')\n",
    "print(f\"Accuracies : {score_xgb}\\nAverage Accuracy : {score_xgb.mean()}\")"
   ]
  }
 ],
 "metadata": {
  "kernelspec": {
   "display_name": "Python 3",
   "language": "python",
   "name": "python3"
  },
  "language_info": {
   "codemirror_mode": {
    "name": "ipython",
    "version": 3
   },
   "file_extension": ".py",
   "mimetype": "text/x-python",
   "name": "python",
   "nbconvert_exporter": "python",
   "pygments_lexer": "ipython3",
   "version": "3.8.8"
  },
  "orig_nbformat": 4,
  "vscode": {
   "interpreter": {
    "hash": "570feb405e2e27c949193ac68f46852414290d515b0ba6e5d90d076ed2284471"
   }
  }
 },
 "nbformat": 4,
 "nbformat_minor": 2
}
