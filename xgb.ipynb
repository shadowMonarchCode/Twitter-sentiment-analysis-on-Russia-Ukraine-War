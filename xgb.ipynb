{
 "cells": [
  {
   "cell_type": "code",
   "execution_count": 1,
   "metadata": {},
   "outputs": [],
   "source": [
    "import pandas as pd\n",
    "from sklearn.feature_extraction.text import TfidfVectorizer\n",
    "from sklearn.model_selection import train_test_split\n",
    "from sklearn.metrics import precision_score, recall_score, f1_score\n",
    "from xgboost import XGBClassifier\n",
    "from sklearn.model_selection import cross_val_score"
   ]
  },
  {
   "cell_type": "code",
   "execution_count": 6,
   "metadata": {},
   "outputs": [
    {
     "data": {
      "text/html": [
       "<div>\n",
       "<style scoped>\n",
       "    .dataframe tbody tr th:only-of-type {\n",
       "        vertical-align: middle;\n",
       "    }\n",
       "\n",
       "    .dataframe tbody tr th {\n",
       "        vertical-align: top;\n",
       "    }\n",
       "\n",
       "    .dataframe thead th {\n",
       "        text-align: right;\n",
       "    }\n",
       "</style>\n",
       "<table border=\"1\" class=\"dataframe\">\n",
       "  <thead>\n",
       "    <tr style=\"text-align: right;\">\n",
       "      <th></th>\n",
       "      <th>text</th>\n",
       "      <th>Sentiment</th>\n",
       "    </tr>\n",
       "  </thead>\n",
       "  <tbody>\n",
       "    <tr>\n",
       "      <th>0</th>\n",
       "      <td>Footage airport bomb Ivano-Frankivsk . # Ukrai...</td>\n",
       "      <td>-1.0</td>\n",
       "    </tr>\n",
       "    <tr>\n",
       "      <th>1</th>\n",
       "      <td>Ukraine MP Sophia Fedyna tell ground situation...</td>\n",
       "      <td>1.0</td>\n",
       "    </tr>\n",
       "    <tr>\n",
       "      <th>2</th>\n",
       "      <td>A cruise missile fire Russian army fell Kiev #...</td>\n",
       "      <td>-1.0</td>\n",
       "    </tr>\n",
       "    <tr>\n",
       "      <th>3</th>\n",
       "      <td>🇺🇦 53rd Mechanized Brigade continue suffer los...</td>\n",
       "      <td>-1.0</td>\n",
       "    </tr>\n",
       "    <tr>\n",
       "      <th>4</th>\n",
       "      <td>Now wrong , absolutely wrong , @ JoeBiden , @ ...</td>\n",
       "      <td>-1.0</td>\n",
       "    </tr>\n",
       "  </tbody>\n",
       "</table>\n",
       "</div>"
      ],
      "text/plain": [
       "                                                text  Sentiment\n",
       "0  Footage airport bomb Ivano-Frankivsk . # Ukrai...       -1.0\n",
       "1  Ukraine MP Sophia Fedyna tell ground situation...        1.0\n",
       "2  A cruise missile fire Russian army fell Kiev #...       -1.0\n",
       "3  🇺🇦 53rd Mechanized Brigade continue suffer los...       -1.0\n",
       "4  Now wrong , absolutely wrong , @ JoeBiden , @ ...       -1.0"
      ]
     },
     "execution_count": 6,
     "metadata": {},
     "output_type": "execute_result"
    }
   ],
   "source": [
    "data = pd.read_csv('Data/Preprocessed/labelled_data.csv', usecols=['text', 'Sentiment'])\n",
    "data.dropna(inplace=True)\n",
    "data.head()"
   ]
  },
  {
   "cell_type": "code",
   "execution_count": 7,
   "metadata": {},
   "outputs": [],
   "source": [
    "vectorizer = TfidfVectorizer(sublinear_tf=True, min_df=3, stop_words='english', decode_error='ignore')\n",
    "X = vectorizer.fit_transform(data.text)"
   ]
  },
  {
   "cell_type": "code",
   "execution_count": 9,
   "metadata": {},
   "outputs": [
    {
     "data": {
      "text/plain": [
       "(107835, 30907)"
      ]
     },
     "execution_count": 9,
     "metadata": {},
     "output_type": "execute_result"
    }
   ],
   "source": [
    "X.shape"
   ]
  },
  {
   "cell_type": "code",
   "execution_count": 12,
   "metadata": {},
   "outputs": [
    {
     "data": {
      "text/plain": [
       "107835"
      ]
     },
     "execution_count": 12,
     "metadata": {},
     "output_type": "execute_result"
    }
   ],
   "source": [
    "data.Sentiment.count()"
   ]
  },
  {
   "cell_type": "code",
   "execution_count": 19,
   "metadata": {},
   "outputs": [],
   "source": [
    "from sklearn.preprocessing import LabelEncoder\n",
    "le = LabelEncoder()\n",
    "Y = le.fit_transform(data.Sentiment)"
   ]
  },
  {
   "cell_type": "code",
   "execution_count": 37,
   "metadata": {},
   "outputs": [
    {
     "name": "stdout",
     "output_type": "stream",
     "text": [
      "Accuracies : [0.77904712 0.7795664  0.8041023  0.79319746 0.79540439 0.81981046\n",
      " 0.77671037 0.81160737 0.79459881 0.8199169  0.80005193 0.80057128\n",
      " 0.77823942 0.76681381]\n",
      "Average Accuracy : 0.7942598597905509\n"
     ]
    }
   ],
   "source": [
    "xg = XGBClassifier()\n",
    "score_xgb = cross_val_score(xg, X, Y, cv=14, scoring='accuracy')\n",
    "print(f\"Accuracies : {score_xgb}\\nAverage Accuracy : {score_xgb.mean()}\")"
   ]
  },
  {
   "cell_type": "code",
   "execution_count": 36,
   "metadata": {},
   "outputs": [
    {
     "name": "stdout",
     "output_type": "stream",
     "text": [
      "Accuracies : [0.59794885 0.61183954 0.64715046 0.63403869 0.63027392 0.67700896\n",
      " 0.66065169 0.71176318 0.68891197 0.73617242 0.68345884 0.68709426\n",
      " 0.66787847 0.68254999]\n",
      "Average Accuracy : 0.6654815176752592\n"
     ]
    }
   ],
   "source": [
    "from sklearn.naive_bayes import MultinomialNB\n",
    "from sklearn.multiclass import OneVsRestClassifier\n",
    "\n",
    "nb = OneVsRestClassifier(MultinomialNB())\n",
    "\n",
    "score_nb = cross_val_score(nb, X, Y, cv=14, scoring='accuracy')\n",
    "print(f\"Accuracies : {score_nb}\\nAverage Accuracy : {score_nb.mean()}\")"
   ]
  },
  {
   "cell_type": "code",
   "execution_count": 34,
   "metadata": {},
   "outputs": [
    {
     "name": "stdout",
     "output_type": "stream",
     "text": [
      "Accuracies : [0.84084123 0.84746203 0.86005452 0.8486304  0.84084123 0.85564066\n",
      " 0.83902376 0.86185406 0.84419631 0.87224098 0.8519865  0.86419112\n",
      " 0.84718255 0.83744482]\n",
      "Average Accuracy : 0.8508278694417629\n"
     ]
    }
   ],
   "source": [
    "from sklearn.linear_model import LogisticRegression\n",
    "\n",
    "lreg = LogisticRegression(multi_class='ovr', solver='saga')\n",
    "\n",
    "score_lreg = cross_val_score(lreg, X, Y, cv=14, scoring = 'accuracy')\n",
    "print(f\"Accuracies : {score_lreg}\\nAverage Accuracy : {score_lreg.mean()}\") "
   ]
  }
 ],
 "metadata": {
  "kernelspec": {
   "display_name": "Python 3",
   "language": "python",
   "name": "python3"
  },
  "language_info": {
   "codemirror_mode": {
    "name": "ipython",
    "version": 3
   },
   "file_extension": ".py",
   "mimetype": "text/x-python",
   "name": "python",
   "nbconvert_exporter": "python",
   "pygments_lexer": "ipython3",
   "version": "3.8.8"
  },
  "orig_nbformat": 4,
  "vscode": {
   "interpreter": {
    "hash": "570feb405e2e27c949193ac68f46852414290d515b0ba6e5d90d076ed2284471"
   }
  }
 },
 "nbformat": 4,
 "nbformat_minor": 2
}
