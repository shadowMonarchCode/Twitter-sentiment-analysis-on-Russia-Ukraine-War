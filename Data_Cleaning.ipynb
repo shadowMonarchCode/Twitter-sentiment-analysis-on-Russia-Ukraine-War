{
 "cells": [
  {
   "cell_type": "code",
   "execution_count": 1,
   "metadata": {},
   "outputs": [
    {
     "name": "stderr",
     "output_type": "stream",
     "text": [
      "[nltk_data] Downloading package stopwords to\n",
      "[nltk_data]     C:\\Users\\Prash\\AppData\\Roaming\\nltk_data...\n",
      "[nltk_data]   Package stopwords is already up-to-date!\n",
      "[nltk_data] Downloading package wordnet to\n",
      "[nltk_data]     C:\\Users\\Prash\\AppData\\Roaming\\nltk_data...\n",
      "[nltk_data]   Package wordnet is already up-to-date!\n"
     ]
    },
    {
     "data": {
      "text/plain": [
       "True"
      ]
     },
     "execution_count": 1,
     "metadata": {},
     "output_type": "execute_result"
    }
   ],
   "source": [
    "import pandas as pd\n",
    "import nltk\n",
    "from nltk.corpus import stopwords\n",
    "from nltk.stem import WordNetLemmatizer\n",
    "from nltk.tokenize import word_tokenize\n",
    "nltk.download('stopwords')\n",
    "nltk.download('wordnet')"
   ]
  },
  {
   "cell_type": "code",
   "execution_count": 2,
   "metadata": {},
   "outputs": [],
   "source": [
    "stop_words = set(stopwords.words('english'))\n",
    "lemmatizer = WordNetLemmatizer()"
   ]
  },
  {
   "cell_type": "code",
   "execution_count": 3,
   "metadata": {},
   "outputs": [],
   "source": [
    "raw_combined = pd.read_csv('Data/raw_dataset/russia_ukraine_war_combined.csv', lineterminator='\\n')\n",
    "tweets = raw_combined['text']"
   ]
  },
  {
   "cell_type": "code",
   "execution_count": 5,
   "metadata": {},
   "outputs": [
    {
     "name": "stderr",
     "output_type": "stream",
     "text": [
      "[nltk_data] Downloading package punkt to\n",
      "[nltk_data]     C:\\Users\\Prash\\AppData\\Roaming\\nltk_data...\n",
      "[nltk_data]   Unzipping tokenizers\\punkt.zip.\n"
     ]
    },
    {
     "data": {
      "text/plain": [
       "True"
      ]
     },
     "execution_count": 5,
     "metadata": {},
     "output_type": "execute_result"
    }
   ],
   "source": [
    "nltk.download('punkt')"
   ]
  },
  {
   "cell_type": "code",
   "execution_count": 21,
   "metadata": {},
   "outputs": [
    {
     "name": "stderr",
     "output_type": "stream",
     "text": [
      "C:\\Users\\Prash\\AppData\\Local\\Temp\\ipykernel_1512\\463804213.py:4: SettingWithCopyWarning: \n",
      "A value is trying to be set on a copy of a slice from a DataFrame\n",
      "\n",
      "See the caveats in the documentation: https://pandas.pydata.org/pandas-docs/stable/user_guide/indexing.html#returning-a-view-versus-a-copy\n",
      "  tweets[i] = ' '.join(filtered_sentence)\n"
     ]
    }
   ],
   "source": [
    "for i in range(0,len(tweets)):\n",
    "    words = word_tokenize(tweets[i])\n",
    "    filtered_sentence = [w for w in words if not w in stop_words]\n",
    "    tweets[i] = ' '.join(filtered_sentence)"
   ]
  },
  {
   "cell_type": "code",
   "execution_count": 26,
   "metadata": {},
   "outputs": [],
   "source": [
    "tweets.to_csv('Data/Preprocessed/tokenized_tweets.csv')"
   ]
  },
  {
   "cell_type": "code",
   "execution_count": 28,
   "metadata": {},
   "outputs": [
    {
     "name": "stderr",
     "output_type": "stream",
     "text": [
      "[nltk_data] Downloading package averaged_perceptron_tagger to\n",
      "[nltk_data]     C:\\Users\\Prash\\AppData\\Roaming\\nltk_data...\n",
      "[nltk_data]   Unzipping taggers\\averaged_perceptron_tagger.zip.\n"
     ]
    },
    {
     "data": {
      "text/plain": [
       "True"
      ]
     },
     "execution_count": 28,
     "metadata": {},
     "output_type": "execute_result"
    }
   ],
   "source": [
    "nltk.download('averaged_perceptron_tagger')"
   ]
  },
  {
   "cell_type": "code",
   "execution_count": 34,
   "metadata": {},
   "outputs": [
    {
     "name": "stderr",
     "output_type": "stream",
     "text": [
      "C:\\Users\\Prash\\AppData\\Local\\Temp\\ipykernel_1512\\3967991559.py:14: SettingWithCopyWarning: \n",
      "A value is trying to be set on a copy of a slice from a DataFrame\n",
      "\n",
      "See the caveats in the documentation: https://pandas.pydata.org/pandas-docs/stable/user_guide/indexing.html#returning-a-view-versus-a-copy\n",
      "  tweets[i] = ' '.join(lemm)\n"
     ]
    }
   ],
   "source": [
    "\n",
    "for i in range(0, len(tweets)):\n",
    "    tokens = word_tokenize(tweets[i])\n",
    "    tagged_tokens = nltk.pos_tag(tokens)\n",
    "    lemm = []\n",
    "    for token in tagged_tokens:\n",
    "        word, tag = token\n",
    "        tag = {\n",
    "            'N': 'n',\n",
    "            'V': 'v',\n",
    "            'R': 'r',\n",
    "            'J': 'a'\n",
    "        }.get(tag[0], 'n')\n",
    "        lemm.append(lemmatizer.lemmatize(word,tag))\n",
    "    tweets[i] = ' '.join(lemm)"
   ]
  },
  {
   "cell_type": "code",
   "execution_count": 35,
   "metadata": {},
   "outputs": [],
   "source": [
    "tweets.to_csv('Data/Preprocessed/lemmatized_tweets.csv')"
   ]
  },
  {
   "cell_type": "code",
   "execution_count": 36,
   "metadata": {},
   "outputs": [
    {
     "data": {
      "text/plain": [
       "0    Footage airport bomb Ivano-Frankivsk . # Ukrai...\n",
       "1    Ukraine MP Sophia Fedyna tell ground situation...\n",
       "2    A cruise missile fire Russian army fell Kiev #...\n",
       "3    Footage airport bomb Ivano-Frankivsk . # Ukrai...\n",
       "4    🇺🇦 53rd Mechanized Brigade continue suffer los...\n",
       "5    Now wrong , absolutely wrong , @ JoeBiden , @ ...\n",
       "Name: text, dtype: object"
      ]
     },
     "execution_count": 36,
     "metadata": {},
     "output_type": "execute_result"
    }
   ],
   "source": [
    "tweets.head(6)"
   ]
  },
  {
   "cell_type": "code",
   "execution_count": 45,
   "metadata": {},
   "outputs": [
    {
     "data": {
      "text/html": [
       "<div>\n",
       "<style scoped>\n",
       "    .dataframe tbody tr th:only-of-type {\n",
       "        vertical-align: middle;\n",
       "    }\n",
       "\n",
       "    .dataframe tbody tr th {\n",
       "        vertical-align: top;\n",
       "    }\n",
       "\n",
       "    .dataframe thead th {\n",
       "        text-align: right;\n",
       "    }\n",
       "</style>\n",
       "<table border=\"1\" class=\"dataframe\">\n",
       "  <thead>\n",
       "    <tr style=\"text-align: right;\">\n",
       "      <th></th>\n",
       "      <th>text</th>\n",
       "    </tr>\n",
       "  </thead>\n",
       "  <tbody>\n",
       "    <tr>\n",
       "      <th>0</th>\n",
       "      <td>Footage airport bomb Ivano-Frankivsk . # Ukrai...</td>\n",
       "    </tr>\n",
       "    <tr>\n",
       "      <th>1</th>\n",
       "      <td>Ukraine MP Sophia Fedyna tell ground situation...</td>\n",
       "    </tr>\n",
       "    <tr>\n",
       "      <th>2</th>\n",
       "      <td>A cruise missile fire Russian army fell Kiev #...</td>\n",
       "    </tr>\n",
       "    <tr>\n",
       "      <th>3</th>\n",
       "      <td>Footage airport bomb Ivano-Frankivsk . # Ukrai...</td>\n",
       "    </tr>\n",
       "    <tr>\n",
       "      <th>4</th>\n",
       "      <td>🇺🇦 53rd Mechanized Brigade continue suffer los...</td>\n",
       "    </tr>\n",
       "    <tr>\n",
       "      <th>...</th>\n",
       "      <td>...</td>\n",
       "    </tr>\n",
       "    <tr>\n",
       "      <th>268260</th>\n",
       "      <td>@ BeKindReWine @ AnonOpsSE Oh yea , forgot men...</td>\n",
       "    </tr>\n",
       "    <tr>\n",
       "      <th>268261</th>\n",
       "      <td>A little dose reality . # Biden 's Executive O...</td>\n",
       "    </tr>\n",
       "    <tr>\n",
       "      <th>268262</th>\n",
       "      <td>Authorities Zaporizhzhia discus evacuation pla...</td>\n",
       "    </tr>\n",
       "    <tr>\n",
       "      <th>268263</th>\n",
       "      <td>mf ’ legitimaly wipe debt last stages politica...</td>\n",
       "    </tr>\n",
       "    <tr>\n",
       "      <th>268264</th>\n",
       "      <td>Not good ! # Ukraine http : //t.co/baxiSHq99Z</td>\n",
       "    </tr>\n",
       "  </tbody>\n",
       "</table>\n",
       "<p>268265 rows × 1 columns</p>\n",
       "</div>"
      ],
      "text/plain": [
       "                                                     text\n",
       "0       Footage airport bomb Ivano-Frankivsk . # Ukrai...\n",
       "1       Ukraine MP Sophia Fedyna tell ground situation...\n",
       "2       A cruise missile fire Russian army fell Kiev #...\n",
       "3       Footage airport bomb Ivano-Frankivsk . # Ukrai...\n",
       "4       🇺🇦 53rd Mechanized Brigade continue suffer los...\n",
       "...                                                   ...\n",
       "268260  @ BeKindReWine @ AnonOpsSE Oh yea , forgot men...\n",
       "268261  A little dose reality . # Biden 's Executive O...\n",
       "268262  Authorities Zaporizhzhia discus evacuation pla...\n",
       "268263  mf ’ legitimaly wipe debt last stages politica...\n",
       "268264      Not good ! # Ukraine http : //t.co/baxiSHq99Z\n",
       "\n",
       "[268265 rows x 1 columns]"
      ]
     },
     "execution_count": 45,
     "metadata": {},
     "output_type": "execute_result"
    }
   ],
   "source": [
    "tweetx = pd.DataFrame(tweets)\n",
    "tweetx"
   ]
  },
  {
   "cell_type": "code",
   "execution_count": 47,
   "metadata": {},
   "outputs": [
    {
     "data": {
      "text/html": [
       "<div>\n",
       "<style scoped>\n",
       "    .dataframe tbody tr th:only-of-type {\n",
       "        vertical-align: middle;\n",
       "    }\n",
       "\n",
       "    .dataframe tbody tr th {\n",
       "        vertical-align: top;\n",
       "    }\n",
       "\n",
       "    .dataframe thead th {\n",
       "        text-align: right;\n",
       "    }\n",
       "</style>\n",
       "<table border=\"1\" class=\"dataframe\">\n",
       "  <thead>\n",
       "    <tr style=\"text-align: right;\">\n",
       "      <th></th>\n",
       "      <th>text</th>\n",
       "    </tr>\n",
       "  </thead>\n",
       "  <tbody>\n",
       "    <tr>\n",
       "      <th>0</th>\n",
       "      <td>Footage airport bomb Ivano-Frankivsk . # Ukrai...</td>\n",
       "    </tr>\n",
       "    <tr>\n",
       "      <th>1</th>\n",
       "      <td>Ukraine MP Sophia Fedyna tell ground situation...</td>\n",
       "    </tr>\n",
       "    <tr>\n",
       "      <th>2</th>\n",
       "      <td>A cruise missile fire Russian army fell Kiev #...</td>\n",
       "    </tr>\n",
       "    <tr>\n",
       "      <th>3</th>\n",
       "      <td>🇺🇦 53rd Mechanized Brigade continue suffer los...</td>\n",
       "    </tr>\n",
       "    <tr>\n",
       "      <th>4</th>\n",
       "      <td>Now wrong , absolutely wrong , @ JoeBiden , @ ...</td>\n",
       "    </tr>\n",
       "    <tr>\n",
       "      <th>5</th>\n",
       "      <td>SPREAD AND SHARE , YOU CAN HELP UKRAINE # Ukra...</td>\n",
       "    </tr>\n",
       "    <tr>\n",
       "      <th>6</th>\n",
       "      <td>From Poetry Bitch # รัสเซียยูเครน # RussiaUkra...</td>\n",
       "    </tr>\n",
       "    <tr>\n",
       "      <th>7</th>\n",
       "      <td># RussiaUkraineConflict # UkraineRussiaCrisis ...</td>\n",
       "    </tr>\n",
       "    <tr>\n",
       "      <th>8</th>\n",
       "      <td>The historic moment PM Pakistan Mr. Imran Khan...</td>\n",
       "    </tr>\n",
       "    <tr>\n",
       "      <th>9</th>\n",
       "      <td>Ukrainian military convoy . # Ukraine # Putin ...</td>\n",
       "    </tr>\n",
       "    <tr>\n",
       "      <th>10</th>\n",
       "      <td>The world must act immediately.- # Ukraine sta...</td>\n",
       "    </tr>\n",
       "    <tr>\n",
       "      <th>11</th>\n",
       "      <td># Putin # theWest ‘ I ’ ready ’ # RussiaUkrain...</td>\n",
       "    </tr>\n",
       "    <tr>\n",
       "      <th>12</th>\n",
       "      <td>⚠️Russian/Ukrainian Activity News⚠️ # Ukraine ...</td>\n",
       "    </tr>\n",
       "    <tr>\n",
       "      <th>13</th>\n",
       "      <td>Footage airport bomb Ivano-Frankivsk . # Ukrai...</td>\n",
       "    </tr>\n",
       "    <tr>\n",
       "      <th>14</th>\n",
       "      <td># BREAKING : Ukrainian air defence say shot 5 ...</td>\n",
       "    </tr>\n",
       "  </tbody>\n",
       "</table>\n",
       "</div>"
      ],
      "text/plain": [
       "                                                 text\n",
       "0   Footage airport bomb Ivano-Frankivsk . # Ukrai...\n",
       "1   Ukraine MP Sophia Fedyna tell ground situation...\n",
       "2   A cruise missile fire Russian army fell Kiev #...\n",
       "3   🇺🇦 53rd Mechanized Brigade continue suffer los...\n",
       "4   Now wrong , absolutely wrong , @ JoeBiden , @ ...\n",
       "5   SPREAD AND SHARE , YOU CAN HELP UKRAINE # Ukra...\n",
       "6   From Poetry Bitch # รัสเซียยูเครน # RussiaUkra...\n",
       "7   # RussiaUkraineConflict # UkraineRussiaCrisis ...\n",
       "8   The historic moment PM Pakistan Mr. Imran Khan...\n",
       "9   Ukrainian military convoy . # Ukraine # Putin ...\n",
       "10  The world must act immediately.- # Ukraine sta...\n",
       "11  # Putin # theWest ‘ I ’ ready ’ # RussiaUkrain...\n",
       "12  ⚠️Russian/Ukrainian Activity News⚠️ # Ukraine ...\n",
       "13  Footage airport bomb Ivano-Frankivsk . # Ukrai...\n",
       "14  # BREAKING : Ukrainian air defence say shot 5 ..."
      ]
     },
     "execution_count": 47,
     "metadata": {},
     "output_type": "execute_result"
    }
   ],
   "source": [
    "tweetx.drop_duplicates(inplace=True, ignore_index=True)\n",
    "tweetx.head(15)"
   ]
  },
  {
   "cell_type": "code",
   "execution_count": 49,
   "metadata": {},
   "outputs": [
    {
     "data": {
      "text/plain": [
       "(107725, 1)"
      ]
     },
     "execution_count": 49,
     "metadata": {},
     "output_type": "execute_result"
    }
   ],
   "source": [
    "tweetx.shape"
   ]
  },
  {
   "cell_type": "code",
   "execution_count": 50,
   "metadata": {},
   "outputs": [],
   "source": [
    "tweetx.to_csv('Data/Preprocessed/duplicated_removed.csv')"
   ]
  }
 ],
 "metadata": {
  "kernelspec": {
   "display_name": "Python 3",
   "language": "python",
   "name": "python3"
  },
  "language_info": {
   "codemirror_mode": {
    "name": "ipython",
    "version": 3
   },
   "file_extension": ".py",
   "mimetype": "text/x-python",
   "name": "python",
   "nbconvert_exporter": "python",
   "pygments_lexer": "ipython3",
   "version": "3.8.8"
  },
  "orig_nbformat": 4,
  "vscode": {
   "interpreter": {
    "hash": "570feb405e2e27c949193ac68f46852414290d515b0ba6e5d90d076ed2284471"
   }
  }
 },
 "nbformat": 4,
 "nbformat_minor": 2
}
